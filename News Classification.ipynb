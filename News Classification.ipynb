{
  "nbformat": 4,
  "nbformat_minor": 0,
  "metadata": {
    "colab": {
      "name": "Unfound.ipynb",
      "version": "0.3.2",
      "provenance": [],
      "collapsed_sections": []
    },
    "kernelspec": {
      "name": "python3",
      "display_name": "Python 3"
    }
  },
  "cells": [
    {
      "cell_type": "code",
      "metadata": {
        "id": "Z9IJb6qg-fej",
        "colab_type": "code",
        "colab": {
          "base_uri": "https://localhost:8080/",
          "height": 51
        },
        "outputId": "f0457599-1c7a-4335-c7a1-893c6df53c4d"
      },
      "source": [
        "!pip install -U -q PyDrive\n",
        "from pydrive.auth import GoogleAuth\n",
        "from pydrive.drive import GoogleDrive\n",
        "from google.colab import auth\n",
        "from oauth2client.client import GoogleCredentials\n",
        "# Authenticate and create the PyDrive client.\n",
        "auth.authenticate_user()\n",
        "gauth = GoogleAuth()\n",
        "gauth.credentials = GoogleCredentials.get_application_default()\n",
        "drive = GoogleDrive(gauth)"
      ],
      "execution_count": 43,
      "outputs": [
        {
          "output_type": "stream",
          "text": [
            "\u001b[?25l\r\u001b[K     |▎                               | 10kB 16.8MB/s eta 0:00:01\r\u001b[K     |▋                               | 20kB 1.9MB/s eta 0:00:01\r\u001b[K     |█                               | 30kB 2.7MB/s eta 0:00:01\r\u001b[K     |█▎                              | 40kB 1.7MB/s eta 0:00:01\r\u001b[K     |█▋                              | 51kB 2.1MB/s eta 0:00:01\r\u001b[K     |██                              | 61kB 2.6MB/s eta 0:00:01\r\u001b[K     |██▎                             | 71kB 3.0MB/s eta 0:00:01\r\u001b[K     |██▋                             | 81kB 3.3MB/s eta 0:00:01\r\u001b[K     |███                             | 92kB 3.7MB/s eta 0:00:01\r\u001b[K     |███▎                            | 102kB 2.9MB/s eta 0:00:01\r\u001b[K     |███▋                            | 112kB 2.9MB/s eta 0:00:01\r\u001b[K     |████                            | 122kB 2.9MB/s eta 0:00:01\r\u001b[K     |████▎                           | 133kB 2.9MB/s eta 0:00:01\r\u001b[K     |████▋                           | 143kB 2.9MB/s eta 0:00:01\r\u001b[K     |█████                           | 153kB 2.9MB/s eta 0:00:01\r\u001b[K     |█████▎                          | 163kB 2.9MB/s eta 0:00:01\r\u001b[K     |█████▋                          | 174kB 2.9MB/s eta 0:00:01\r\u001b[K     |██████                          | 184kB 2.9MB/s eta 0:00:01\r\u001b[K     |██████▎                         | 194kB 2.9MB/s eta 0:00:01\r\u001b[K     |██████▋                         | 204kB 2.9MB/s eta 0:00:01\r\u001b[K     |███████                         | 215kB 2.9MB/s eta 0:00:01\r\u001b[K     |███████▎                        | 225kB 2.9MB/s eta 0:00:01\r\u001b[K     |███████▋                        | 235kB 2.9MB/s eta 0:00:01\r\u001b[K     |████████                        | 245kB 2.9MB/s eta 0:00:01\r\u001b[K     |████████▎                       | 256kB 2.9MB/s eta 0:00:01\r\u001b[K     |████████▋                       | 266kB 2.9MB/s eta 0:00:01\r\u001b[K     |█████████                       | 276kB 2.9MB/s eta 0:00:01\r\u001b[K     |█████████▎                      | 286kB 2.9MB/s eta 0:00:01\r\u001b[K     |█████████▋                      | 296kB 2.9MB/s eta 0:00:01\r\u001b[K     |██████████                      | 307kB 2.9MB/s eta 0:00:01\r\u001b[K     |██████████▎                     | 317kB 2.9MB/s eta 0:00:01\r\u001b[K     |██████████▋                     | 327kB 2.9MB/s eta 0:00:01\r\u001b[K     |███████████                     | 337kB 2.9MB/s eta 0:00:01\r\u001b[K     |███████████▎                    | 348kB 2.9MB/s eta 0:00:01\r\u001b[K     |███████████▋                    | 358kB 2.9MB/s eta 0:00:01\r\u001b[K     |████████████                    | 368kB 2.9MB/s eta 0:00:01\r\u001b[K     |████████████▎                   | 378kB 2.9MB/s eta 0:00:01\r\u001b[K     |████████████▋                   | 389kB 2.9MB/s eta 0:00:01\r\u001b[K     |█████████████                   | 399kB 2.9MB/s eta 0:00:01\r\u001b[K     |█████████████▎                  | 409kB 2.9MB/s eta 0:00:01\r\u001b[K     |█████████████▋                  | 419kB 2.9MB/s eta 0:00:01\r\u001b[K     |██████████████                  | 430kB 2.9MB/s eta 0:00:01\r\u001b[K     |██████████████▎                 | 440kB 2.9MB/s eta 0:00:01\r\u001b[K     |██████████████▋                 | 450kB 2.9MB/s eta 0:00:01\r\u001b[K     |███████████████                 | 460kB 2.9MB/s eta 0:00:01\r\u001b[K     |███████████████▎                | 471kB 2.9MB/s eta 0:00:01\r\u001b[K     |███████████████▋                | 481kB 2.9MB/s eta 0:00:01\r\u001b[K     |████████████████                | 491kB 2.9MB/s eta 0:00:01\r\u001b[K     |████████████████▎               | 501kB 2.9MB/s eta 0:00:01\r\u001b[K     |████████████████▋               | 512kB 2.9MB/s eta 0:00:01\r\u001b[K     |█████████████████               | 522kB 2.9MB/s eta 0:00:01\r\u001b[K     |█████████████████▎              | 532kB 2.9MB/s eta 0:00:01\r\u001b[K     |█████████████████▋              | 542kB 2.9MB/s eta 0:00:01\r\u001b[K     |██████████████████              | 552kB 2.9MB/s eta 0:00:01\r\u001b[K     |██████████████████▎             | 563kB 2.9MB/s eta 0:00:01\r\u001b[K     |██████████████████▋             | 573kB 2.9MB/s eta 0:00:01\r\u001b[K     |███████████████████             | 583kB 2.9MB/s eta 0:00:01\r\u001b[K     |███████████████████▎            | 593kB 2.9MB/s eta 0:00:01\r\u001b[K     |███████████████████▋            | 604kB 2.9MB/s eta 0:00:01\r\u001b[K     |████████████████████            | 614kB 2.9MB/s eta 0:00:01\r\u001b[K     |████████████████████▎           | 624kB 2.9MB/s eta 0:00:01\r\u001b[K     |████████████████████▋           | 634kB 2.9MB/s eta 0:00:01\r\u001b[K     |█████████████████████           | 645kB 2.9MB/s eta 0:00:01\r\u001b[K     |█████████████████████▎          | 655kB 2.9MB/s eta 0:00:01\r\u001b[K     |█████████████████████▋          | 665kB 2.9MB/s eta 0:00:01\r\u001b[K     |██████████████████████          | 675kB 2.9MB/s eta 0:00:01\r\u001b[K     |██████████████████████▎         | 686kB 2.9MB/s eta 0:00:01\r\u001b[K     |██████████████████████▋         | 696kB 2.9MB/s eta 0:00:01\r\u001b[K     |███████████████████████         | 706kB 2.9MB/s eta 0:00:01\r\u001b[K     |███████████████████████▎        | 716kB 2.9MB/s eta 0:00:01\r\u001b[K     |███████████████████████▋        | 727kB 2.9MB/s eta 0:00:01\r\u001b[K     |████████████████████████        | 737kB 2.9MB/s eta 0:00:01\r\u001b[K     |████████████████████████▎       | 747kB 2.9MB/s eta 0:00:01\r\u001b[K     |████████████████████████▋       | 757kB 2.9MB/s eta 0:00:01\r\u001b[K     |████████████████████████▉       | 768kB 2.9MB/s eta 0:00:01\r\u001b[K     |█████████████████████████▏      | 778kB 2.9MB/s eta 0:00:01\r\u001b[K     |█████████████████████████▌      | 788kB 2.9MB/s eta 0:00:01\r\u001b[K     |█████████████████████████▉      | 798kB 2.9MB/s eta 0:00:01\r\u001b[K     |██████████████████████████▏     | 808kB 2.9MB/s eta 0:00:01\r\u001b[K     |██████████████████████████▌     | 819kB 2.9MB/s eta 0:00:01\r\u001b[K     |██████████████████████████▉     | 829kB 2.9MB/s eta 0:00:01\r\u001b[K     |███████████████████████████▏    | 839kB 2.9MB/s eta 0:00:01\r\u001b[K     |███████████████████████████▌    | 849kB 2.9MB/s eta 0:00:01\r\u001b[K     |███████████████████████████▉    | 860kB 2.9MB/s eta 0:00:01\r\u001b[K     |████████████████████████████▏   | 870kB 2.9MB/s eta 0:00:01\r\u001b[K     |████████████████████████████▌   | 880kB 2.9MB/s eta 0:00:01\r\u001b[K     |████████████████████████████▉   | 890kB 2.9MB/s eta 0:00:01\r\u001b[K     |█████████████████████████████▏  | 901kB 2.9MB/s eta 0:00:01\r\u001b[K     |█████████████████████████████▌  | 911kB 2.9MB/s eta 0:00:01\r\u001b[K     |█████████████████████████████▉  | 921kB 2.9MB/s eta 0:00:01\r\u001b[K     |██████████████████████████████▏ | 931kB 2.9MB/s eta 0:00:01\r\u001b[K     |██████████████████████████████▌ | 942kB 2.9MB/s eta 0:00:01\r\u001b[K     |██████████████████████████████▉ | 952kB 2.9MB/s eta 0:00:01\r\u001b[K     |███████████████████████████████▏| 962kB 2.9MB/s eta 0:00:01\r\u001b[K     |███████████████████████████████▌| 972kB 2.9MB/s eta 0:00:01\r\u001b[K     |███████████████████████████████▉| 983kB 2.9MB/s eta 0:00:01\r\u001b[K     |████████████████████████████████| 993kB 2.9MB/s \n",
            "\u001b[?25h  Building wheel for PyDrive (setup.py) ... \u001b[?25l\u001b[?25hdone\n"
          ],
          "name": "stdout"
        }
      ]
    },
    {
      "cell_type": "code",
      "metadata": {
        "id": "M4KTK34GAGaJ",
        "colab_type": "code",
        "colab": {}
      },
      "source": [
        "link=\"https://drive.google.com/open?id=17FIPplAOkDN8i1tuT3nDTDegEfoAEyPL\""
      ],
      "execution_count": 0,
      "outputs": []
    },
    {
      "cell_type": "code",
      "metadata": {
        "id": "GibK03grAbZO",
        "colab_type": "code",
        "outputId": "0c8fa374-7467-4c76-8bec-0624c0efec45",
        "colab": {
          "base_uri": "https://localhost:8080/",
          "height": 34
        }
      },
      "source": [
        "fluff, id = link.split('=')\n",
        "print (id)"
      ],
      "execution_count": 45,
      "outputs": [
        {
          "output_type": "stream",
          "text": [
            "17FIPplAOkDN8i1tuT3nDTDegEfoAEyPL\n"
          ],
          "name": "stdout"
        }
      ]
    },
    {
      "cell_type": "code",
      "metadata": {
        "id": "-GT9oa6VAb-3",
        "colab_type": "code",
        "colab": {}
      },
      "source": [
        "downloaded = drive.CreateFile({'id':id}) \n",
        "downloaded.GetContentFile('news.csv')  \n",
        "news = pd.read_csv('news.csv')"
      ],
      "execution_count": 0,
      "outputs": []
    },
    {
      "cell_type": "code",
      "metadata": {
        "id": "6ctP8lkPAoGb",
        "colab_type": "code",
        "colab": {}
      },
      "source": [
        "import pandas as pd"
      ],
      "execution_count": 0,
      "outputs": []
    },
    {
      "cell_type": "code",
      "metadata": {
        "id": "GYd3044pAkIW",
        "colab_type": "code",
        "outputId": "28c10018-285a-4960-cf5e-db4e531dbd86",
        "colab": {
          "base_uri": "https://localhost:8080/",
          "height": 204
        }
      },
      "source": [
        "news.head()"
      ],
      "execution_count": 49,
      "outputs": [
        {
          "output_type": "execute_result",
          "data": {
            "text/html": [
              "<div>\n",
              "<style scoped>\n",
              "    .dataframe tbody tr th:only-of-type {\n",
              "        vertical-align: middle;\n",
              "    }\n",
              "\n",
              "    .dataframe tbody tr th {\n",
              "        vertical-align: top;\n",
              "    }\n",
              "\n",
              "    .dataframe thead th {\n",
              "        text-align: right;\n",
              "    }\n",
              "</style>\n",
              "<table border=\"1\" class=\"dataframe\">\n",
              "  <thead>\n",
              "    <tr style=\"text-align: right;\">\n",
              "      <th></th>\n",
              "      <th>Unnamed: 0</th>\n",
              "      <th>article</th>\n",
              "      <th>category</th>\n",
              "    </tr>\n",
              "  </thead>\n",
              "  <tbody>\n",
              "    <tr>\n",
              "      <th>0</th>\n",
              "      <td>24644</td>\n",
              "      <td>Global emissions targets will lead to 4C tempe...</td>\n",
              "      <td>CLIMATE</td>\n",
              "    </tr>\n",
              "    <tr>\n",
              "      <th>1</th>\n",
              "      <td>115540</td>\n",
              "      <td>Climate sceptics place bets on world cooling d...</td>\n",
              "      <td>SCIENCE</td>\n",
              "    </tr>\n",
              "    <tr>\n",
              "      <th>2</th>\n",
              "      <td>113058</td>\n",
              "      <td>This brain parasite can increase your chances ...</td>\n",
              "      <td>SOCIETY</td>\n",
              "    </tr>\n",
              "    <tr>\n",
              "      <th>3</th>\n",
              "      <td>79582</td>\n",
              "      <td>In pictures: RSPB's Big Garden Birdwatch - wha...</td>\n",
              "      <td>CLIMATE</td>\n",
              "    </tr>\n",
              "    <tr>\n",
              "      <th>4</th>\n",
              "      <td>76416</td>\n",
              "      <td>Duma wants convincing arguments for Kyoto rati...</td>\n",
              "      <td>BUSINESS</td>\n",
              "    </tr>\n",
              "  </tbody>\n",
              "</table>\n",
              "</div>"
            ],
            "text/plain": [
              "   Unnamed: 0                                            article  category\n",
              "0       24644  Global emissions targets will lead to 4C tempe...   CLIMATE\n",
              "1      115540  Climate sceptics place bets on world cooling d...   SCIENCE\n",
              "2      113058  This brain parasite can increase your chances ...   SOCIETY\n",
              "3       79582  In pictures: RSPB's Big Garden Birdwatch - wha...   CLIMATE\n",
              "4       76416  Duma wants convincing arguments for Kyoto rati...  BUSINESS"
            ]
          },
          "metadata": {
            "tags": []
          },
          "execution_count": 49
        }
      ]
    },
    {
      "cell_type": "code",
      "metadata": {
        "id": "kxINqyKdA21U",
        "colab_type": "code",
        "colab": {}
      },
      "source": [
        "news=news.drop(\"Unnamed: 0\",axis=1)"
      ],
      "execution_count": 0,
      "outputs": []
    },
    {
      "cell_type": "code",
      "metadata": {
        "id": "HtdVlVLNA8zB",
        "colab_type": "code",
        "outputId": "a099c04b-e929-4491-ecf0-bbd23bf131bb",
        "colab": {
          "base_uri": "https://localhost:8080/",
          "height": 204
        }
      },
      "source": [
        "news.head()"
      ],
      "execution_count": 51,
      "outputs": [
        {
          "output_type": "execute_result",
          "data": {
            "text/html": [
              "<div>\n",
              "<style scoped>\n",
              "    .dataframe tbody tr th:only-of-type {\n",
              "        vertical-align: middle;\n",
              "    }\n",
              "\n",
              "    .dataframe tbody tr th {\n",
              "        vertical-align: top;\n",
              "    }\n",
              "\n",
              "    .dataframe thead th {\n",
              "        text-align: right;\n",
              "    }\n",
              "</style>\n",
              "<table border=\"1\" class=\"dataframe\">\n",
              "  <thead>\n",
              "    <tr style=\"text-align: right;\">\n",
              "      <th></th>\n",
              "      <th>article</th>\n",
              "      <th>category</th>\n",
              "    </tr>\n",
              "  </thead>\n",
              "  <tbody>\n",
              "    <tr>\n",
              "      <th>0</th>\n",
              "      <td>Global emissions targets will lead to 4C tempe...</td>\n",
              "      <td>CLIMATE</td>\n",
              "    </tr>\n",
              "    <tr>\n",
              "      <th>1</th>\n",
              "      <td>Climate sceptics place bets on world cooling d...</td>\n",
              "      <td>SCIENCE</td>\n",
              "    </tr>\n",
              "    <tr>\n",
              "      <th>2</th>\n",
              "      <td>This brain parasite can increase your chances ...</td>\n",
              "      <td>SOCIETY</td>\n",
              "    </tr>\n",
              "    <tr>\n",
              "      <th>3</th>\n",
              "      <td>In pictures: RSPB's Big Garden Birdwatch - wha...</td>\n",
              "      <td>CLIMATE</td>\n",
              "    </tr>\n",
              "    <tr>\n",
              "      <th>4</th>\n",
              "      <td>Duma wants convincing arguments for Kyoto rati...</td>\n",
              "      <td>BUSINESS</td>\n",
              "    </tr>\n",
              "  </tbody>\n",
              "</table>\n",
              "</div>"
            ],
            "text/plain": [
              "                                             article  category\n",
              "0  Global emissions targets will lead to 4C tempe...   CLIMATE\n",
              "1  Climate sceptics place bets on world cooling d...   SCIENCE\n",
              "2  This brain parasite can increase your chances ...   SOCIETY\n",
              "3  In pictures: RSPB's Big Garden Birdwatch - wha...   CLIMATE\n",
              "4  Duma wants convincing arguments for Kyoto rati...  BUSINESS"
            ]
          },
          "metadata": {
            "tags": []
          },
          "execution_count": 51
        }
      ]
    },
    {
      "cell_type": "code",
      "metadata": {
        "id": "SEwJBpB7B4ce",
        "colab_type": "code",
        "outputId": "86b19abd-3ab2-4714-fbed-968fa3a6eccd",
        "colab": {
          "base_uri": "https://localhost:8080/",
          "height": 51
        }
      },
      "source": [
        "news[\"category\"].unique()"
      ],
      "execution_count": 52,
      "outputs": [
        {
          "output_type": "execute_result",
          "data": {
            "text/plain": [
              "array(['CLIMATE', 'SCIENCE', 'SOCIETY', 'BUSINESS', 'SCI-TECH', 'SPORTS',\n",
              "       'ENTERTAINMENT', 'POLITICS', 'EDUCATION'], dtype=object)"
            ]
          },
          "metadata": {
            "tags": []
          },
          "execution_count": 52
        }
      ]
    },
    {
      "cell_type": "code",
      "metadata": {
        "id": "hqWqCi-cB8T5",
        "colab_type": "code",
        "outputId": "49cd275b-050c-4062-c25d-d4f5d86cb2ed",
        "colab": {
          "base_uri": "https://localhost:8080/",
          "height": 187
        }
      },
      "source": [
        "pd.value_counts(news[\"category\"])"
      ],
      "execution_count": 53,
      "outputs": [
        {
          "output_type": "execute_result",
          "data": {
            "text/plain": [
              "SPORTS           22318\n",
              "BUSINESS         21567\n",
              "SCI-TECH         21240\n",
              "CLIMATE          14770\n",
              "SOCIETY          13873\n",
              "SCIENCE          11293\n",
              "EDUCATION         8292\n",
              "ENTERTAINMENT     7364\n",
              "POLITICS          6410\n",
              "Name: category, dtype: int64"
            ]
          },
          "metadata": {
            "tags": []
          },
          "execution_count": 53
        }
      ]
    },
    {
      "cell_type": "code",
      "metadata": {
        "id": "_FmX44q1C71p",
        "colab_type": "code",
        "colab": {
          "base_uri": "https://localhost:8080/",
          "height": 51
        },
        "outputId": "51d35fc5-2667-49f7-d9b0-7500a28f3c72"
      },
      "source": [
        "import nltk\n",
        "import re\n",
        "from nltk.tokenize.toktok import ToktokTokenizer\n",
        "tokenizer=ToktokTokenizer()\n",
        "nltk.download(\"stopwords\")\n",
        "stopwords_list=set(nltk.corpus.stopwords.words(\"english\"))"
      ],
      "execution_count": 54,
      "outputs": [
        {
          "output_type": "stream",
          "text": [
            "[nltk_data] Downloading package stopwords to /root/nltk_data...\n",
            "[nltk_data]   Package stopwords is already up-to-date!\n"
          ],
          "name": "stdout"
        }
      ]
    },
    {
      "cell_type": "code",
      "metadata": {
        "id": "xi7M1T_jC1ZB",
        "colab_type": "code",
        "outputId": "0a708fc0-5844-489f-de2b-49c963de6385",
        "colab": {
          "base_uri": "https://localhost:8080/",
          "height": 68
        }
      },
      "source": [
        "news.isna().sum()"
      ],
      "execution_count": 55,
      "outputs": [
        {
          "output_type": "execute_result",
          "data": {
            "text/plain": [
              "article     0\n",
              "category    0\n",
              "dtype: int64"
            ]
          },
          "metadata": {
            "tags": []
          },
          "execution_count": 55
        }
      ]
    },
    {
      "cell_type": "code",
      "metadata": {
        "id": "C7dMByz7DcmP",
        "colab_type": "code",
        "colab": {
          "base_uri": "https://localhost:8080/",
          "height": 34
        },
        "outputId": "074abdc1-d891-46b8-d85c-01021bb1a427"
      },
      "source": [
        "def remove_stopwords(text):\n",
        "  tokens=tokenizer.tokenize(text)\n",
        "  tokens=[token.strip() for token in tokens]\n",
        "  filtered_tokens=[token for token in tokens if token.lower() not in stopwords_list]\n",
        "  filtered_tokens=\" \".join(filtered_tokens)\n",
        "  return filtered_tokens\n",
        "remove_stopwords(\"This is an apple\")"
      ],
      "execution_count": 56,
      "outputs": [
        {
          "output_type": "execute_result",
          "data": {
            "text/plain": [
              "'apple'"
            ]
          },
          "metadata": {
            "tags": []
          },
          "execution_count": 56
        }
      ]
    },
    {
      "cell_type": "code",
      "metadata": {
        "id": "MBs_ATRqLQVa",
        "colab_type": "code",
        "colab": {
          "base_uri": "https://localhost:8080/",
          "height": 34
        },
        "outputId": "5bd7bd04-bb4f-499e-df9f-392161d2e0c0"
      },
      "source": [
        "def remove_special_char(text):\n",
        "  pattern=r'[^a-zA-Z\\s]'\n",
        "  text=re.sub(pattern,'',text)\n",
        "  return text\n",
        "remove_special_char(\"Hey @ asdhasd123\")"
      ],
      "execution_count": 57,
      "outputs": [
        {
          "output_type": "execute_result",
          "data": {
            "text/plain": [
              "'Hey  asdhasd'"
            ]
          },
          "metadata": {
            "tags": []
          },
          "execution_count": 57
        }
      ]
    },
    {
      "cell_type": "code",
      "metadata": {
        "id": "yNSPvUKAL4fH",
        "colab_type": "code",
        "colab": {
          "base_uri": "https://localhost:8080/",
          "height": 34
        },
        "outputId": "b36034e6-4f73-4bab-a561-ba7fcc23503e"
      },
      "source": [
        "#def lemma(text):\n",
        "#  text=[lemmatizer.lemmatize(word=text,pos=\"v\") for word in text]\n",
        "#  return text\n",
        "\n",
        "print(lemmatizer.lemmatize(\"are\",pos='v'))"
      ],
      "execution_count": 58,
      "outputs": [
        {
          "output_type": "stream",
          "text": [
            "be\n"
          ],
          "name": "stdout"
        }
      ]
    },
    {
      "cell_type": "code",
      "metadata": {
        "id": "fHLa5Of0NjnY",
        "colab_type": "code",
        "colab": {
          "base_uri": "https://localhost:8080/",
          "height": 51
        },
        "outputId": "d02d732c-0246-4631-eb4e-cdc1f6e2284e"
      },
      "source": [
        "from nltk.stem.porter import PorterStemmer\n",
        "ps=PorterStemmer()"
      ],
      "execution_count": 80,
      "outputs": [
        {
          "output_type": "stream",
          "text": [
            "[nltk_data] Downloading package wordnet to /root/nltk_data...\n",
            "[nltk_data]   Package wordnet is already up-to-date!\n"
          ],
          "name": "stdout"
        }
      ]
    },
    {
      "cell_type": "code",
      "metadata": {
        "id": "NKwdXSuAN2kl",
        "colab_type": "code",
        "colab": {}
      },
      "source": [
        "def normalize_corpus(corpus):\n",
        "    \n",
        "    normalized_corpus = []\n",
        "    # normalize each document in the corpus\n",
        "    for doc in corpus:\n",
        "        # lowercase the text    \n",
        "        doc = doc.lower()\n",
        "        # remove extra newlines\n",
        "        doc = re.sub(r'[\\r|\\n|\\r\\n]+', ' ',doc)\n",
        "        # lemmatize text\n",
        "        doc =stemmer(doc)\n",
        "        # remove special characters and\\or digits    \n",
        "        special_char_pattern = re.compile(r'([{.(-)!}])')\n",
        "        doc = special_char_pattern.sub(\" \\\\1 \", doc)\n",
        "        doc = remove_special_char(doc)  \n",
        "        # remove extra whitespace\n",
        "        doc = re.sub(' +', ' ', doc)\n",
        "        # remove stopwords\n",
        "        doc = remove_stopwords(doc)\n",
        "        normalized_corpus.append(doc)\n",
        "        \n",
        "    return normalized_corpus"
      ],
      "execution_count": 0,
      "outputs": []
    },
    {
      "cell_type": "code",
      "metadata": {
        "id": "LGs8cccgTu0j",
        "colab_type": "code",
        "colab": {
          "base_uri": "https://localhost:8080/",
          "height": 71
        },
        "outputId": "371406ac-f4ad-4379-9d0c-dfbbf1285729"
      },
      "source": [
        "news[\"Processed_article\"]=normalize_corpus(news[\"article\"])\n",
        "norm_corpus=list(news[\"Processed_article\"])\n",
        "#showing sample\n",
        "news.iloc[1][[\"Processed_article\",\"article\"]].to_dict()"
      ],
      "execution_count": 89,
      "outputs": [
        {
          "output_type": "execute_result",
          "data": {
            "text/plain": [
              "{'Processed_article': 'climat sceptic place bet world cool solar physicist make wager climat modeller british climat model ha final persuad globalwarm sceptic wager money contrarian predict climat change jam annan base japan agenc marineearth scienc technolog yokohama ha agre us bet galina mashnich vladimir bashkirtsev two solar physicist argu global temperatur driven chang sun activ fall next decade bet side say formal legal document came climat sceptic refus wager money annan began hi quest last winter hear richard lindzen meteorologist massachusett institut technolog question extent human activ influenc climate say wa bet global temperatur drop next years payoff retir age would nice topup pension say annan wager wa ever agreed annan say lindzen want odd fall temperatures thi meant annan would pay temperatur dropped receiv onli rose total annan say tri fail agre term seven sceptics two russian climat sceptic ride predict reduct sunspot activ lower earth temperature image millerdmioth potenti climat gambler drawn blank attempt enter similar bet climatechang sceptics may environment activist georg monbiot challeng climat sceptic myron ebel us wager live bbc radio ebell globalwarm specialist competit enterpris institute thinktank washington dc declined say ha four children put univers doe want take risks annan search end mashnich bashkirtsev base institut solarterrestri physic irkutsk russia say global surfac air temperatur close correl size number sunspots sunspot level follow regular pattern sun expect less activ phase next decades lead mashnich bashkirtsev predict drop temperature side agre compar averag global surfac temperatur defin record us nation climat data center temperatur drops annan pay mashnich bashkirtsev sum go way temperatur rises pi corbyn head weather action privat meteorolog servic base london told natur would like enter similar bet corbyn theory detail ha revealed predict chang solar activ caus consider world cooling annan challeng bet may corbyn say receiv email im happi bet load money says right permiss obtain permiss reus content thi articl visit rightslink',\n",
              " 'article': \"Climate sceptics place bets on world cooling down. Solar physicists make $10,000 wager with climate modeller.A British climate modeller has finally persuaded global-warming sceptics to wager money on their contrarian predictions about climate change.James Annan, who is based at the Japan Agency for Marine-Earth Science and Technology in Yokohama, has agreed a US$10,000 bet with Galina Mashnich and Vladimir Bashkirtsev, two solar physicists who argue that global temperatures are driven by changes in the Sun's activity and will fall over the next decade. The bet, which both sides say they are willing to formalize in a legal document, came after other climate sceptics refused to wager money.Annan began his quest last winter after hearing Richard Lindzen, a meteorologist at the Massachusetts Institute of Technology who questions the extent to which human activities are influencing climate, say he was willing to bet that global temperatures will drop over the next 20 years. “A pay-off at retirement age would be a nice top-up to my pension,” says Annan.But no wager was ever agreed. Annan says that Lindzen wanted odds of 50-to-1 against falling temperatures: this meant that Annan would pay out $10,000 if temperatures dropped, but receive only $200 if they rose. In total, Annan says he tried and failed to agree terms with seven sceptics.Two Russian climate sceptics have $10,000 riding on their prediction that a reduction in sunspot activity will lower Earth's temperature. Image: D. MILLER/DMIOther potential climate gamblers have drawn a blank with their attempts to enter similar bets with climate-change sceptics. In May, environmental activist George Monbiot challenged climate sceptic Myron Ebell to a £5,000 (US$9,000) wager live on BBC radio. Ebell, a global-warming specialist at the Competitive Enterprise Institute, a think-tank in Washington DC, declined, saying he has four children to put through university and so does not “want to take risks”.But Annan's search ended with Mashnich and Bashkirtsev, who are based at the Institute of Solar-Terrestrial Physics in Irkutsk, Russia. They say that global surface air temperatures closely correlate with the size and number of sunspots. Sunspot levels follow regular patterns and the Sun is expected to be in a less active phase over the next few decades, leading Mashnich and Bashkirtsev to predict a drop in temperature.Both sides have agreed to compare the average global surface temperature between 1998 and 2003 with that between 2012 and 2017, as defined by the records of the US National Climatic Data Center. If the temperature drops, Annan will pay Mashnich and Bashkirtsev $10,000 in 2018, with the same sum going the other way if the temperature rises.Piers Corbyn, head of Weather Action, a private meteorological service based in London, told Nature he would like to enter into a similar bet. Corbyn's theory, the details of which he has not revealed, predicts that changes in solar activity will cause “considerable world cooling” by 2040. Annan challenged him to a bet in May, but Corbyn says he did not receive the e-mail. “I'm happy to bet loads of money,” he says.Rights and permissions To obtain permission to re-use content from this article visit RightsLink.\"}"
            ]
          },
          "metadata": {
            "tags": []
          },
          "execution_count": 89
        }
      ]
    },
    {
      "cell_type": "code",
      "metadata": {
        "id": "VcfNWPL4T972",
        "colab_type": "code",
        "colab": {}
      },
      "source": [
        "from keras.preprocessing.text import Tokenizer\n",
        "from keras.preprocessing.sequence import pad_sequences\n",
        "from keras.models import Sequential\n",
        "from keras.layers import Dense, Embedding, LSTM, SpatialDropout1D\n",
        "from sklearn.model_selection import train_test_split\n",
        "from keras.utils.np_utils import to_categorical\n",
        "from keras.callbacks import EarlyStopping\n",
        "from keras.layers import Dropout\n",
        "import re\n"
      ],
      "execution_count": 0,
      "outputs": []
    },
    {
      "cell_type": "code",
      "metadata": {
        "id": "epPKsWQJV6Qg",
        "colab_type": "code",
        "colab": {
          "base_uri": "https://localhost:8080/",
          "height": 34
        },
        "outputId": "778806bf-1d2a-45be-d218-fe1e1d8bc08d"
      },
      "source": [
        "def stemmer(text):\n",
        "        text=' '.join([ps.stem(word) for word in text.split()])\n",
        "        return text\n",
        "stemmer(\"cooling\")"
      ],
      "execution_count": 87,
      "outputs": [
        {
          "output_type": "execute_result",
          "data": {
            "text/plain": [
              "'cool'"
            ]
          },
          "metadata": {
            "tags": []
          },
          "execution_count": 87
        }
      ]
    },
    {
      "cell_type": "code",
      "metadata": {
        "id": "8HatCFLoYatN",
        "colab_type": "code",
        "colab": {
          "base_uri": "https://localhost:8080/",
          "height": 34
        },
        "outputId": "3f782982-19e3-41d6-f955-066c31efcbea"
      },
      "source": [
        "# The maximum number of words to be used. (most frequent)\n",
        "MAX_NB_WORDS = 100000\n",
        "# Max number of words in each complaint.\n",
        "MAX_SEQUENCE_LENGTH = 250\n",
        "# This is fixed.\n",
        "EMBEDDING_DIM = 100\n",
        "tokenizer = Tokenizer(num_words=MAX_NB_WORDS, filters='!\"#$%&()*+,-./:;<=>?@[\\]^_`{|}~', lower=True)\n",
        "tokenizer.fit_on_texts(news['Processed_article'].values)\n",
        "word_index = tokenizer.word_index\n",
        "print('Found %s unique tokens.' % len(word_index))"
      ],
      "execution_count": 106,
      "outputs": [
        {
          "output_type": "stream",
          "text": [
            "Found 360417 unique tokens.\n"
          ],
          "name": "stdout"
        }
      ]
    },
    {
      "cell_type": "code",
      "metadata": {
        "id": "jn_COiyEeGFF",
        "colab_type": "code",
        "colab": {
          "base_uri": "https://localhost:8080/",
          "height": 34
        },
        "outputId": "e705d9bd-2905-4603-ad32-5fafaab5d6a3"
      },
      "source": [
        "X = tokenizer.texts_to_sequences(news['Processed_article'].values)\n",
        "X = pad_sequences(X, maxlen=MAX_SEQUENCE_LENGTH)\n",
        "print('Shape of data tensor:', X.shape)"
      ],
      "execution_count": 107,
      "outputs": [
        {
          "output_type": "stream",
          "text": [
            "Shape of data tensor: (127127, 250)\n"
          ],
          "name": "stdout"
        }
      ]
    },
    {
      "cell_type": "code",
      "metadata": {
        "id": "hbeFr7DsfRLX",
        "colab_type": "code",
        "colab": {
          "base_uri": "https://localhost:8080/",
          "height": 34
        },
        "outputId": "e7d540f2-886d-4b15-d5c3-4e862ae8fd20"
      },
      "source": [
        "Y = pd.get_dummies(news['category']).values\n",
        "print('Shape of label tensor:', Y.shape)"
      ],
      "execution_count": 108,
      "outputs": [
        {
          "output_type": "stream",
          "text": [
            "Shape of label tensor: (127127, 9)\n"
          ],
          "name": "stdout"
        }
      ]
    },
    {
      "cell_type": "code",
      "metadata": {
        "id": "Q3or_B1LfbLu",
        "colab_type": "code",
        "colab": {
          "base_uri": "https://localhost:8080/",
          "height": 51
        },
        "outputId": "77ddc088-12bf-46d1-ff46-5b1d72d1d442"
      },
      "source": [
        "X_train, X_test, Y_train, Y_test = train_test_split(X,Y, test_size = 0.10, random_state = 2019)\n",
        "print(X_train.shape,Y_train.shape)\n",
        "print(X_test.shape,Y_test.shape)"
      ],
      "execution_count": 109,
      "outputs": [
        {
          "output_type": "stream",
          "text": [
            "(114414, 250) (114414, 9)\n",
            "(12713, 250) (12713, 9)\n"
          ],
          "name": "stdout"
        }
      ]
    },
    {
      "cell_type": "code",
      "metadata": {
        "id": "XWg8QJHcfhs8",
        "colab_type": "code",
        "colab": {
          "base_uri": "https://localhost:8080/",
          "height": 289
        },
        "outputId": "7e816dce-71e1-45e9-c2de-19f4e7bfb2f7"
      },
      "source": [
        "model = Sequential()\n",
        "model.add(Embedding(MAX_NB_WORDS, EMBEDDING_DIM, input_length=X.shape[1]))\n",
        "model.add(SpatialDropout1D(0.2))\n",
        "model.add(LSTM(100, dropout=0.2, recurrent_dropout=0.2))\n",
        "model.add(Dense(9, activation='softmax'))\n",
        "model.compile(loss='categorical_crossentropy', optimizer='adam', metrics=['accuracy'])\n",
        "print(model.summary())"
      ],
      "execution_count": 110,
      "outputs": [
        {
          "output_type": "stream",
          "text": [
            "_________________________________________________________________\n",
            "Layer (type)                 Output Shape              Param #   \n",
            "=================================================================\n",
            "embedding_4 (Embedding)      (None, 250, 100)          10000000  \n",
            "_________________________________________________________________\n",
            "spatial_dropout1d_4 (Spatial (None, 250, 100)          0         \n",
            "_________________________________________________________________\n",
            "lstm_4 (LSTM)                (None, 100)               80400     \n",
            "_________________________________________________________________\n",
            "dense_4 (Dense)              (None, 9)                 909       \n",
            "=================================================================\n",
            "Total params: 10,081,309\n",
            "Trainable params: 10,081,309\n",
            "Non-trainable params: 0\n",
            "_________________________________________________________________\n",
            "None\n"
          ],
          "name": "stdout"
        }
      ]
    },
    {
      "cell_type": "code",
      "metadata": {
        "id": "T5Tzi4OMfrJD",
        "colab_type": "code",
        "colab": {
          "base_uri": "https://localhost:8080/",
          "height": 224
        },
        "outputId": "b463e92a-5830-4f2e-c30d-bf2bc332232e"
      },
      "source": [
        "epochs = 5\n",
        "batch_size = 64\n",
        "\n",
        "history = model.fit(X_train, Y_train, epochs=epochs, batch_size=batch_size,validation_split=0.1,callbacks=[EarlyStopping(monitor='val_loss', patience=3, min_delta=0.0001)])"
      ],
      "execution_count": 111,
      "outputs": [
        {
          "output_type": "stream",
          "text": [
            "Train on 102972 samples, validate on 11442 samples\n",
            "Epoch 1/5\n",
            "102972/102972 [==============================] - 1343s 13ms/step - loss: 0.4284 - acc: 0.8484 - val_loss: 0.2045 - val_acc: 0.9358\n",
            "Epoch 2/5\n",
            "102972/102972 [==============================] - 1342s 13ms/step - loss: 0.1584 - acc: 0.9496 - val_loss: 0.2113 - val_acc: 0.9339\n",
            "Epoch 3/5\n",
            "102972/102972 [==============================] - 1345s 13ms/step - loss: 0.1076 - acc: 0.9659 - val_loss: 0.1911 - val_acc: 0.9414\n",
            "Epoch 4/5\n",
            "102972/102972 [==============================] - 1858s 18ms/step - loss: 0.0730 - acc: 0.9763 - val_loss: 0.2352 - val_acc: 0.9345\n",
            "Epoch 5/5\n",
            "102972/102972 [==============================] - 1540s 15ms/step - loss: 0.0517 - acc: 0.9831 - val_loss: 0.2127 - val_acc: 0.9432\n"
          ],
          "name": "stdout"
        }
      ]
    },
    {
      "cell_type": "code",
      "metadata": {
        "id": "gFW91L_lfxs5",
        "colab_type": "code",
        "colab": {
          "base_uri": "https://localhost:8080/",
          "height": 85
        },
        "outputId": "7c158d31-9e84-4db3-b06d-db0e51ff34c9"
      },
      "source": [
        "accr = model.evaluate(X_test,Y_test)\n",
        "print('Test set\\n  Loss: {:0.3f}\\n  Accuracy: {:0.3f}'.format(accr[0],accr[1]))"
      ],
      "execution_count": 112,
      "outputs": [
        {
          "output_type": "stream",
          "text": [
            "12713/12713 [==============================] - 26s 2ms/step\n",
            "Test set\n",
            "  Loss: 0.198\n",
            "  Accuracy: 0.944\n"
          ],
          "name": "stdout"
        }
      ]
    },
    {
      "cell_type": "code",
      "metadata": {
        "id": "7lh0O3WU9Jxd",
        "colab_type": "code",
        "colab": {
          "base_uri": "https://localhost:8080/",
          "height": 187
        },
        "outputId": "835c7768-2f29-400a-c4dd-25e54a2e3e23"
      },
      "source": [
        "news['category'].value_counts()"
      ],
      "execution_count": 126,
      "outputs": [
        {
          "output_type": "execute_result",
          "data": {
            "text/plain": [
              "SPORTS           22318\n",
              "BUSINESS         21567\n",
              "SCI-TECH         21240\n",
              "CLIMATE          14770\n",
              "SOCIETY          13873\n",
              "SCIENCE          11293\n",
              "EDUCATION         8292\n",
              "ENTERTAINMENT     7364\n",
              "POLITICS          6410\n",
              "Name: category, dtype: int64"
            ]
          },
          "metadata": {
            "tags": []
          },
          "execution_count": 126
        }
      ]
    },
    {
      "cell_type": "code",
      "metadata": {
        "id": "zt_jIkSG9aKZ",
        "colab_type": "code",
        "colab": {
          "base_uri": "https://localhost:8080/",
          "height": 51
        },
        "outputId": "f453d782-6bbe-4ade-d4ea-bb6f70d1161d"
      },
      "source": [
        "new_complaint = [\"Climate sceptics place bets on world cooling down. Solar physicists make $10,000 wager with climate modeller.A British climate modeller has finally persuaded global-warming sceptics to wager money on their contrarian predictions about climate change.James Annan, who is based at the Japan Agency for Marine-Earth Science and Technology in Yokohama, has agreed a US$10,000 bet with Galina Mashnich and Vladimir Bashkirtsev, two solar physicists who argue that global temperatures are driven by changes in the Sun's activity and will fall over the next decade. The bet, which both sides say they are willing to formalize in a legal document, came after other climate sceptics refused to wager money.Annan began his quest last winter after hearing Richard Lindzen, a meteorologist at the Massachusetts Institute of Technology who questions the extent to which human activities are influencing climate, say he was willing to bet that global temperatures will drop over the next 20 years. “A pay-off at retirement age would be a nice top-up to my pension,” says Annan.But no wager was ever agreed. Annan says that Lindzen wanted odds of 50-to-1 against falling temperatures: this meant that Annan would pay out $10,000 if temperatures dropped, but receive only $200 if they rose. In total, Annan says he tried and failed to agree terms with seven sceptics.Two Russian climate sceptics have $10,000 riding on their prediction that a reduction in sunspot activity will lower Earth's temperature. Image: D. MILLER/DMIOther potential climate gamblers have drawn a blank with their attempts to enter similar bets with climate-change sceptics. In May, environmental activist George Monbiot challenged climate sceptic Myron Ebell to a £5,000 (US$9,000) wager live on BBC radio. Ebell, a global-warming specialist at the Competitive Enterprise Institute, a think-tank in Washington DC, declined, saying he has four children to put through university and so does not “want to take risks”.But Annan's search ended with Mashnich and Bashkirtsev, who are based at the Institute of Solar-Terrestrial Physics in Irkutsk, Russia. They say that global surface air temperatures closely correlate with the size and number of sunspots. Sunspot levels follow regular patterns and the Sun is expected to be in a less active phase over the next few decades, leading Mashnich and Bashkirtsev to predict a drop in temperature.Both sides have agreed to compare the average global surface temperature between 1998 and 2003 with that between 2012 and 2017, as defined by the records of the US National Climatic Data Center. If the temperature drops, Annan will pay Mashnich and Bashkirtsev $10,000 in 2018, with the same sum going the other way if the temperature rises.Piers Corbyn, head of Weather Action, a private meteorological service based in London, told Nature he would like to enter into a similar bet. Corbyn's theory, the details of which he has not revealed, predicts that changes in solar activity will cause “considerable world cooling” by 2040. Annan challenged him to a bet in May, but Corbyn says he did not receive the e-mail. “I'm happy to bet loads of money,” he says.Rights and permissions To obtain permission to re-use content from this article visit RightsLink.\"]\n",
        "seq = tokenizer.texts_to_sequences(new_complaint)\n",
        "padded = pad_sequences(seq, maxlen=MAX_SEQUENCE_LENGTH)\n",
        "pred = model.predict(padded)\n",
        "labels=[\"SPORTS\",\"BUSINESS\",\"SCI-TECH\",\"CLIMATE\",\"SOCIETY\",\"EDUCATION\",\"SCIENCE\",\"ENTERTAINMENT\",\"POLITICS\"]\n",
        "print(pred, labels[np.argmax(pred)])"
      ],
      "execution_count": 122,
      "outputs": [
        {
          "output_type": "stream",
          "text": [
            "[[1.3338857e-05 3.0617188e-03 2.0277448e-05 2.2006576e-05 1.9315248e-05\n",
            "  2.4349978e-05 9.9671376e-01 1.1458261e-04 1.0516973e-05]] SCIENCE\n"
          ],
          "name": "stdout"
        }
      ]
    },
    {
      "cell_type": "code",
      "metadata": {
        "id": "bnhrq3OV-Yd6",
        "colab_type": "code",
        "colab": {}
      },
      "source": [
        "import numpy as np"
      ],
      "execution_count": 0,
      "outputs": []
    },
    {
      "cell_type": "code",
      "metadata": {
        "id": "FjPyEsuD-jGf",
        "colab_type": "code",
        "colab": {}
      },
      "source": [
        ""
      ],
      "execution_count": 0,
      "outputs": []
    }
  ]
}